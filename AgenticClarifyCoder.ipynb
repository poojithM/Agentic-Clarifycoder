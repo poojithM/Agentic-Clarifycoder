{
 "cells": [
  {
   "cell_type": "markdown",
   "metadata": {
    "id": "ZIeXvQUDqI8s"
   },
   "source": [
    "**Agentic Clarify Coder**\n",
    "\n",
    "Developed a Agentic ClarifyCoder, a workflow centered on ClarifyCoder a fine-tuned model that explicitly flags uncertainty and asks targeted clarification questions before generating any code. The system adopts a “code-when-certain, ask-when-unsure” posture: it produces code immediately for well-specified prompts, and uses short, focused questions to elicit missing user requirements when ambiguity is detected. The workflow coordinates two agents: Agent 1 reviews the question and, if it is clear, sends it to Agent 2; if it is not, Agent 1 asks clarification questions to the user. Agent 2 generates the code by using user input once ambiguity is resolved. This disciplined clarify-then-code loop reduces brittle guesses, lowers error rates, and measurably improves the reliability and user trust of LLM-based code generation."
   ]
  },
  {
   "cell_type": "code",
   "execution_count": null,
   "metadata": {
    "colab": {
     "base_uri": "https://localhost:8080/"
    },
    "id": "LXhPeT6ULTFZ",
    "outputId": "6d75be1f-ed19-4193-9ccc-49128c5f28d8"
   },
   "outputs": [],
   "source": [
    "!pip -q install transformers peft langgraph langchain-core langchain-community\n"
   ]
  },
  {
   "cell_type": "code",
   "execution_count": null,
   "metadata": {
    "id": "uQRDSStcLfsu"
   },
   "outputs": [],
   "source": [
    "import torch, os\n",
    "from typing import TypedDict, List, Dict, Any\n",
    "from transformers import AutoTokenizer, AutoModelForCausalLM\n",
    "from peft import PeftModel\n",
    "from langgraph.graph import StateGraph, END\n",
    "from graphviz import Digraph\n",
    "from IPython.display import Image, display\n",
    "import re"
   ]
  },
  {
   "cell_type": "markdown",
   "metadata": {
    "id": "QZzW6Tusb3x3"
   },
   "source": [
    "**Initializing Clarify Coder**"
   ]
  },
  {
   "cell_type": "code",
   "execution_count": null,
   "metadata": {
    "colab": {
     "base_uri": "https://localhost:8080/",
     "height": 493,
     "referenced_widgets": [
      "cfeb79ff740d4e05ade98aeda55c1c80",
      "e56e0cba6e544f359fd4ead1be2118b4",
      "0c4504e834764a87a0ba9942b6b91c37",
      "c846121ac0da4d38974fad9f05832573",
      "175a58fd2e6c46cfaee359d2f36851ed",
      "30447dda0da94b1e8292eb19a9f437e7",
      "69c562ca00e24594825e38eef8f9e99a",
      "bc80eaa3669a49e0ae2d623b17f6354d",
      "09b2930536424129acd09c40d59ab4a3",
      "3bcf939536d24750857bd095def0cb99",
      "904458df002a4527a4baecbef0f8d6df",
      "2d66281d1ebc4bfca553decd9274d625",
      "0ea53e429f8a4920af3039975a64945d",
      "7132186ae2f24820825c18426555301a",
      "cc66ccb6561b4c74a1eceb7da32776d8",
      "a33d5d8b1869481a8426bfc19ee16e36",
      "21cd6dd32cb74d6e9fe883ff7c75b081",
      "186660011e38418ea51d01afdefd5371",
      "dc8dffd46cb944afaa9de6a6acdad5bb",
      "f97300db134642e2b86744ba03a0ac1c",
      "ef67f45aadbb4beb93807f04d328758e",
      "5961f1f06fde4f738482e5e428bde785",
      "490abe9cac41477cad40fe6f78de1c0c",
      "dba92b92406249f5a7e95415da03c5d1",
      "8960adb0c93741748380d3050780ae5d",
      "bb3d996a56bb4abbb25287eec36a4551",
      "6ddc595ecf4c4890a2dd3658f9d5203d",
      "a64ae187222a4105add3cacee14c02ac",
      "5764e438d9e54dbabb785fe4cd529dce",
      "f1a61e884c5e4212a7bba1f8adbd7ed8",
      "93f8d320aff5471d848573a97d4a0350",
      "187af8d3306f441f864e1d341aa41812",
      "da03842bfe794e58b9d79109b92ad810",
      "c52f08a83d7f43fdab8df2e9195e57bb",
      "46772c756eb74e2c96fafa48004863d9",
      "7bc9cc4e561f4c6dae52142768a79647",
      "cb48fadeaa52484b92f920f5d6ca787e",
      "f4e655620b184144a10f3dbc4e179faf",
      "03b8b82fec5d43979e9854e21592725e",
      "933fa5edfb694ac686a20f59bbc183bb",
      "ad7126eeefca465ea42d3d814e6bc6cb",
      "9292507d97994f4ea3e6b7d4e33acac8",
      "d10c0decfead47578af93ccebd2f825a",
      "39472c807576414bb5b8cc3935127aa7",
      "b33b45f11c354ecca956e2437e995a5b",
      "96475cd427eb4d97acc3ea38dc599944",
      "a9c5140369aa4069b95fdb92fd756efb",
      "63349aeb14d64ef0af56796d6edd515c",
      "4088d5d0821a4c41b03421bf01cb7fee",
      "198e9f7f60334603b55ceeebfaa08080",
      "ba6ce776371e44819697f68e14fb47a2",
      "af3ab615fb88411b9626afc5f2623e08",
      "0cc353590ac444a5b51793ad1ed355df",
      "42fd9eff68924267875ece2d61b07c5b",
      "1ce28030bd2b4dadad475b808c3bc70e",
      "ecddbc0943fb4278b766fad83b8c0f3c",
      "7eb4c67d61cf40ebad77d3571fa8d3d7",
      "5e93a3846bb245e6907bd90fd49bf2c7",
      "65d241e357114df29a941ceb4cc79914",
      "63a85bab6f014074a2ba74032b730599",
      "c5b47fa2ff604cef93a533f7eed11c93",
      "b9a8fbc01f904166b5d99efc99a4ba41",
      "1ee5246d339b4915b60d3dc0e26b334e",
      "f3c80ce783e649febf2f3ed340c62431",
      "fe86a407d40c4b1e82105c0c36087554",
      "c3339406ca6a469b8fda191d710dcf59",
      "2e319c50e6324ba7ae8cc85b6ae0bfd3",
      "4a47f5747fbc4fb3907d527ef9fbf5ac",
      "362fa03c538747e1992f4ace4ad94ac0",
      "b689a440f06c4405915c8f87fd25f79b",
      "f4d8b487bc394b309ae11831c4fc894b",
      "6bf23a20fc274652a6b3a1943556bb32",
      "471fc38f2c3e4463bce6ce722c30a890",
      "d5a06ea997e74672a4d34f0f28ec5886",
      "38e3e03ab598497ba337e96102771008",
      "dc70b01c60d24572bf6906cf39a4f3bd",
      "33998bec7f5d4e239d4386bca98f60df",
      "6dc55b653a654917a91c5b6dad7bc020",
      "296d65be94ac45fd9495c98f75d7df66",
      "634845789cb741e8937a2f545d305330",
      "441233dfbb5e478ca6308f2e754c9b4b",
      "683c93e72dfe4c919d46a55047c9cc2b",
      "064cb289b6b04b0990b05cb7acde769b",
      "94e404b1509f4e898d317c6dc17cf92c",
      "72f2e89233214954ac3fd773d40f14e5",
      "7c4390e71ae3414591bacd75876fcbca",
      "51f251d8a5f146d281f763fe38edc834",
      "a000a29858aa439182dec38f466ae464",
      "0a21c4db96df4d5794ccbdb09fa425f3",
      "1eac917b987c4308bdfb9560cdf611d4",
      "fab0e4f72e554a088d01238fe6fe866b",
      "f28f17c1d33b45afba93681c7d908a3c",
      "fdc96c32d267435a8e27a7ac2a41d351",
      "6669a02f4e85488bb013c237bfe563b7",
      "50ae52ad9926403db2e02381ae0068f9",
      "ce52d917b24b4e3bad514714e861192c",
      "7d9f2b765d994efca2f94884b0e7c87a",
      "8c190d7a095f4504abe8d3b320642630",
      "c4912eb4f0fa4f639f4cb9e078f96b7d",
      "11dc25a8859549f89569033c324abd70",
      "5a9b098e8d944544a6053946f84fbe73",
      "45ea449e404248afbad3063cb8414e53",
      "a65af10116e048dc9b00f7a97852219c",
      "880e1890f7f548f58636246988fc3306",
      "6864d9d368a647c386679426214a239f",
      "1d4e8d7d472f4af2a805d04ee63ffd4f",
      "c7a2c07535e747f89f4d751aa984bdfb",
      "e26efcbf9bda4ebdb7e5a230c7a91932",
      "88eb8c5a9031419899a4a68c7a99b80b",
      "a67c70832e4741ddb0b32fdfbe34f2f4",
      "acbd7f755ac34035a5f18a170bb7dc52",
      "f8b996aab07842e89eb4f0552c530bb1",
      "97873c1e0e2543acb5121af5797cd6ec",
      "06ed9a20eed346669cee31067f66a055",
      "670ef61851a0443a89ff60bf482e7881",
      "b86fe329ad4d4d12b0680e93804c2de6",
      "05c8935a07734552a7896adea28bdcf4",
      "1ce8b8ad3ae14db2b9a43ad7b4d448fe",
      "c95bf44806144bb49e2a37cbc2630c5a",
      "6154117a954a4a24b036adebc7c91620",
      "268d797665584ab2bcbf015c1aac8e4e"
     ]
    },
    "id": "8Ff6_3LUZP_9",
    "outputId": "8dcb29e8-8ddc-4812-8996-a4cf0c84196f"
   },
   "outputs": [],
   "source": [
    "Base_model  = \"deepseek-ai/deepseek-coder-6.7b-instruct\"\n",
    "tokenizer = AutoTokenizer.from_pretrained(Base_model, use_fast=True, trust_remote_code=True)\n",
    "\n",
    "#Loading the Deepseek-coder model\n",
    "base_model = AutoModelForCausalLM.from_pretrained(\n",
    "    Base_model,\n",
    "    dtype=torch.float16 if torch.cuda.is_available() else torch.float32,\n",
    "    device_map=\"auto\",\n",
    "    trust_remote_code=True,\n",
    ")\n",
    "\n",
    "#Loading Clarify-Coder Adaper\n",
    "model = PeftModel.from_pretrained(base_model, \"jie-jw-wu/clarify-coder\").eval()\n",
    "device = next(model.parameters()).device\n"
   ]
  },
  {
   "cell_type": "markdown",
   "metadata": {
    "id": "eDmpb3Tlb4pV"
   },
   "source": [
    "**Function to Generate response from language model**\n",
    "\n"
   ]
  },
  {
   "cell_type": "code",
   "execution_count": null,
   "metadata": {
    "id": "iStydlNhLlEc"
   },
   "outputs": [],
   "source": [
    "def response(messages: list[dict[str, str]],max_new_tokens: int,temperature: float) -> str:\n",
    "\n",
    "    prompt = tokenizer.apply_chat_template(messages,tokenize=False,add_generation_prompt=True)\n",
    "\n",
    "    #Tokenizing the Prompt\n",
    "    inputs = tokenizer(prompt, return_tensors=\"pt\").to(device)\n",
    "\n",
    "    #Generating Output\n",
    "    with torch.no_grad():\n",
    "        outputs = model.generate(\n",
    "            **inputs,\n",
    "            max_new_tokens=max_new_tokens,\n",
    "            temperature=temperature,\n",
    "            top_p=0.95,\n",
    "            do_sample=(temperature > 0),\n",
    "            repetition_penalty=1.05,\n",
    "            eos_token_id=tokenizer.eos_token_id,\n",
    "            pad_token_id=(tokenizer.pad_token_id or tokenizer.eos_token_id),\n",
    "        )\n",
    "\n",
    "    #Decoding the generated output to text\n",
    "    full_sequence = tokenizer.decode(outputs[0], skip_special_tokens=True)\n",
    "    return full_sequence[len(prompt):].strip() if full_sequence.startswith(prompt) else full_sequence.strip()\n"
   ]
  },
  {
   "cell_type": "markdown",
   "metadata": {
    "id": "UbPbtwL0HhS_"
   },
   "source": [
    "**Two Agentic Flow**"
   ]
  },
  {
   "cell_type": "markdown",
   "metadata": {
    "id": "U_pR-ioNJvdw"
   },
   "source": [
    "**TwoState Class manages the shared state in the Agentic workflow,**"
   ]
  },
  {
   "cell_type": "code",
   "execution_count": null,
   "metadata": {
    "id": "KElhWlzLHsk7"
   },
   "outputs": [],
   "source": [
    "#Shared state\n",
    "class TwoState(TypedDict, total=False):\n",
    "    problem: str\n",
    "    answers: str\n",
    "    questions: str\n",
    "    needs_clarification: bool\n",
    "    final_code: str\n",
    "    status: str"
   ]
  },
  {
   "cell_type": "markdown",
   "metadata": {
    "id": "Wc0P3YGPJ7MG"
   },
   "source": [
    "**Agent1**\n",
    "\n",
    "This agent will understand the user problem and generate clarify question if Problem is unclear if not generate OK"
   ]
  },
  {
   "cell_type": "code",
   "execution_count": null,
   "metadata": {
    "id": "ZrZulmy9HsxF"
   },
   "outputs": [],
   "source": [
    "def AnalyzerAgent1(state: TwoState) -> TwoState:\n",
    "    \"\"\"Agent 1: Question Analyzer - determines if problem is clear or needs clarification\"\"\"\n",
    "\n",
    "    system_msg = {\n",
    "        \"role\": \"system\",\n",
    "        \"content\": (\n",
    "            \"You are a problem analyzer. Determine if the problem is clear enough to code.\\n\\n\"\n",
    "            \"OUTPUT RULES:\\n\"\n",
    "            \"- If the problem is clear and specific, respond EXACTLY: OK\\n\"\n",
    "            \"- If the problem is vague or missing details, ask 1-4 numbered questions\\n\"\n",
    "            \"- Format questions as: '1. Question here\\\\n2. Another question\\\\n'\\n\"\n",
    "            \"- NO explanations, NO code, NO other text\\n\\n\"\n",
    "\n",
    "            \"Examples of CLEAR problems (respond OK):\\n\"\n",
    "            \"- 'Write a function to add two numbers 4 and 5'\\n\"\n",
    "            \"- 'Create a function to reverse a string Amercia'\\n\"\n",
    "            \"- 'Find the maximum number in a list of 5 elements'\\n\\n\"\n",
    "\n",
    "            \"Examples of UNCLEAR problems (ask questions):\\n\"\n",
    "            \"- Return the list increment by number (what number?)\\n\"\n",
    "            \"- 'Sort an array' (which algorithm? ascending/descending?)\\n\"\n",
    "            \"- 'Create a calculator' (what operations? GUI or CLI?)\\n\"\n",
    "            \"- 'Process data' (what kind of processing? what format?)\\n\\n\"\n",
    "            \"Only ask questions if genuinely ambiguous.\"\n",
    "        )\n",
    "    }\n",
    "\n",
    "    user_msg = {\n",
    "        \"role\": \"user\",\n",
    "        \"content\": f\"Analyze this problem: {state['problem']}\\n\\nIs this clear enough to implement without ambiguity?\"\n",
    "    }\n",
    "\n",
    "    # Generate analysis\n",
    "    raw_output = response([system_msg, user_msg], max_new_tokens=300, temperature=0.0).strip()\n",
    "\n",
    "    # Clean up the output\n",
    "    lines = [line.strip() for line in raw_output.split('\\n') if line.strip()]\n",
    "\n",
    "    # Check if it's OK\n",
    "    if any(line.upper() == \"OK\" for line in lines):\n",
    "        out_final = \"OK\"\n",
    "        needs = False\n",
    "        print(\"Agent 1: Problem is CLEAR - OK\")\n",
    "    else:\n",
    "        # Extract numbered questions\n",
    "        questions = []\n",
    "        for line in lines:\n",
    "            if re.match(r'^[1-4]\\.\\s+', line):\n",
    "                questions.append(line)\n",
    "\n",
    "        if questions and len(questions) <= 4:\n",
    "            out_final = '\\n'.join(questions)\n",
    "            needs = True\n",
    "            print(\"Agent 1: Problem is UNCLEAR - Questions needed\")\n",
    "            print(out_final)\n",
    "        else:\n",
    "            # Default to OK if no clear questions\n",
    "            out_final = \"OK\"\n",
    "            needs = False\n",
    "            print(\"Agent 1: Defaulting to OK\")\n",
    "\n",
    "    # Update state\n",
    "    new = dict(state)\n",
    "    new[\"needs_clarification\"] = needs\n",
    "    new[\"questions\"] = out_final if needs else \"\"\n",
    "    if needs and not state.get(\"answers\"):\n",
    "        new[\"status\"] = \"awaiting_answers\"\n",
    "\n",
    "    return new"
   ]
  },
  {
   "cell_type": "markdown",
   "metadata": {
    "id": "h98w6u_oKSUi"
   },
   "source": [
    "The route function directs the workflow after Agent 1 sending it to await for user requirements or to refine for final code generation."
   ]
  },
  {
   "cell_type": "code",
   "execution_count": null,
   "metadata": {
    "id": "nQsh_0utHs0O"
   },
   "outputs": [],
   "source": [
    "# Simple 2-agent workflow routing\n",
    "def route_after_agent1(state: TwoState) -> str:\n",
    "    if state.get(\"needs_clarification\") and not state.get(\"answers\"):\n",
    "        return \"await\"\n",
    "    return \"generate_code\"\n",
    "\n",
    "def await_for_user_input(state: TwoState) -> TwoState:\n",
    "    new = dict(state)\n",
    "    new[\"status\"] = \"awaiting_answers\"\n",
    "    return new"
   ]
  },
  {
   "cell_type": "markdown",
   "metadata": {
    "id": "vNEkF5msSPLe"
   },
   "source": [
    "**Agent 2**\n",
    "\n",
    "This agent will complete the final code by understanding the problem statement and user requirements."
   ]
  },
  {
   "cell_type": "code",
   "execution_count": null,
   "metadata": {
    "id": "MgysUVPWHs3W"
   },
   "outputs": [],
   "source": [
    "#Agent 2\n",
    "def CoderAgent2(state: TwoState) -> TwoState:\n",
    "    \"\"\"Agent 2: Code Generator - generates executable code based on problem and requirements\"\"\"\n",
    "\n",
    "    system_msg = {\n",
    "        \"role\": \"system\",\n",
    "        \"content\": (\n",
    "            \"You are a code generator. Create complete, executable Python code.\\n\\n\"\n",
    "            \"RULES:\\n\"\n",
    "            \"- Generate ONE complete, working Python program\\n\"\n",
    "            \"- If user provided requirements, implement them exactly\\n\"\n",
    "            \"- Write clean, production-ready code\\n\"\n",
    "            \"- Start directly with the code\\n\\n\"\n",
    "            \"Create a complete solution that works immediately.\"\n",
    "        )\n",
    "    }\n",
    "\n",
    "    # Create prompt based on whether user provided requirements\n",
    "    if state.get('questions') and state.get('answers'):\n",
    "        print(\"Agent 2: Generating code with USER REQUIREMENTS\")\n",
    "        prompt = (\n",
    "            f\"Create code that implements the user's specific requirements.\\n\\n\"\n",
    "            f\"PROBLEM: {state['problem']}\\n\\n\"\n",
    "            f\"QUESTIONS ASKED: {state['questions']}\\n\\n\"\n",
    "            f\"USER REQUIREMENTS: {state['answers']}\\n\\n\"\n",
    "            f\"TASK: Create complete code that follows the user's specifications exactly. \"\n",
    "            f\"Implement each requirement they provided.\"\n",
    "        )\n",
    "    else:\n",
    "        print(\"Agent 2: Generating code for CLEAR PROBLEM\")\n",
    "        prompt = (\n",
    "            f\"Create code for this clear problem.\\n\\n\"\n",
    "            f\"PROBLEM: {state['problem']}\\n\\n\"\n",
    "            f\"TASK: Create complete, executable Python code that solves this problem. \"\n",
    "            f\"Include example usage.\"\n",
    "        )\n",
    "\n",
    "    # Generate code\n",
    "    raw_output = response([system_msg, {\"role\": \"user\", \"content\": prompt}], max_new_tokens=1500, temperature=0.0).strip()\n",
    "\n",
    "    # Clean up the output using your existing clean function\n",
    "    code_pattern = re.compile(r\"(?:```python\\s*\\n(.*?)\\n\\s*```|### Response:\\s*\\n(.*))\", re.DOTALL)\n",
    "    match = code_pattern.search(raw_output)\n",
    "    if match:\n",
    "        final_code = (match.group(1) or match.group(2)).strip()\n",
    "    else:\n",
    "        final_code = raw_output.strip()\n",
    "\n",
    "\n",
    "\n",
    "    # Update state\n",
    "    new = dict(state)\n",
    "    new[\"final_code\"] = final_code\n",
    "    new[\"status\"] = \"finalized\"\n",
    "    return new"
   ]
  },
  {
   "cell_type": "markdown",
   "metadata": {
    "id": "_-sabsAsKdaA"
   },
   "source": [
    "**StateGraph**\n",
    "\n",
    "Building StateGraph for Two Agentic Workflow, Connecting Agent1, Agent2 with conditional routing to handle clarifications and finalize Code"
   ]
  },
  {
   "cell_type": "code",
   "execution_count": null,
   "metadata": {
    "id": "h-yAlqCiHs51"
   },
   "outputs": [],
   "source": [
    "#Build the graph\n",
    "builder = StateGraph(TwoState)\n",
    "builder.add_node(\"AnalyzerAgent1\", AnalyzerAgent1)  # Question analyzer\n",
    "builder.add_node(\"CoderAgent2\", CoderAgent2)  # Code generator\n",
    "builder.add_node(\"await_for_user_input\", await_for_user_input)\n",
    "builder.set_entry_point(\"AnalyzerAgent1\")\n",
    "builder.add_conditional_edges(\"AnalyzerAgent1\", route_after_agent1, {\"await\": \"await_for_user_input\", \"generate_code\": \"CoderAgent2\"})\n",
    "builder.add_edge(\"await_for_user_input\", END)\n",
    "builder.add_edge(\"CoderAgent2\", END)\n",
    "clarify_graph = builder.compile()"
   ]
  },
  {
   "cell_type": "markdown",
   "metadata": {
    "id": "lZ1PDkMMKl1e"
   },
   "source": [
    "**Vizualize State Grpah**"
   ]
  },
  {
   "cell_type": "code",
   "execution_count": null,
   "metadata": {
    "colab": {
     "base_uri": "https://localhost:8080/",
     "height": 36
    },
    "id": "4cDR8-V1Hs8c",
    "outputId": "cf20201d-4f0f-41eb-ba4e-c90b7c3559de"
   },
   "outputs": [],
   "source": [
    "\n",
    "from graphviz import Digraph\n",
    "\n",
    "# Create a new directed graph\n",
    "dot = Digraph(comment='ClarifyCoder StateGraph', format='png')\n",
    "\n",
    "# Define nodes\n",
    "dot.node('AnalyzerAgent1', 'AnalyzerAgent1\\n(Problem Analyzer)', shape='box', style='filled', fillcolor='lightblue')\n",
    "dot.node('CoderAgent2', 'CoderAgent2\\n(Code Generator)', shape='box', style='filled', fillcolor='lightgreen')\n",
    "dot.node('await_for_user_input', 'Await User Input', shape='box', style='filled', fillcolor='lightyellow')\n",
    "dot.node('END', 'END', shape='circle', style='filled', fillcolor='red')\n",
    "\n",
    "# Define edges\n",
    "dot.edge('AnalyzerAgent1', 'CoderAgent2', label='generate_code', style='bold')\n",
    "dot.edge('AnalyzerAgent1', 'await_for_user_input', label='await (unclear)', style='dashed')\n",
    "dot.edge('await_for_user_input', 'CoderAgent2', label='proceed after input', style='dotted')\n",
    "dot.edge('CoderAgent2', 'END')\n",
    "\n",
    "# Set entry point (visual cue)\n",
    "dot.node('START', 'START', shape='circle', style='filled', fillcolor='grey')\n",
    "dot.edge('START', 'AnalyzerAgent1', label='Entry', style='bold')\n",
    "\n",
    "# Render the graph to a file\n",
    "dot.render('TwoAgent', view=True)"
   ]
  },
  {
   "cell_type": "code",
   "execution_count": null,
   "metadata": {
    "colab": {
     "base_uri": "https://localhost:8080/",
     "height": 607
    },
    "id": "LUKoGekMHs_P",
    "outputId": "67b06746-0688-426c-e46a-675a6b84bc78"
   },
   "outputs": [],
   "source": [
    "display(Image(filename='TwoAgent.png'))"
   ]
  },
  {
   "cell_type": "markdown",
   "metadata": {
    "id": "K1VzePWsLKSl"
   },
   "source": [
    "**Two Agentic Workflow**\n",
    "\n",
    "This function manually executes the Two Agentic workflow, reviewing the user question with Agent1, collecting user clarification if needed, and producing final code with Agent2."
   ]
  },
  {
   "cell_type": "code",
   "execution_count": null,
   "metadata": {
    "id": "HAGCpbwKHtFY"
   },
   "outputs": [],
   "source": [
    "def agentic_clarify_coder(problem: str):\n",
    "    \"\"\"Run the 2-agent ClarifyCoder workflow\"\"\"\n",
    "\n",
    "    print(f\"Processing problem: {problem}\\n\")\n",
    "\n",
    "    #Agent 1 analyzes the problem\n",
    "    print(\"Agent 1: Analyzing problem clarity...\")\n",
    "    state = {\"problem\": problem}\n",
    "    state = AnalyzerAgent1(state)\n",
    "    print(\"=\"*50)\n",
    "\n",
    "    # Handle clarification if needed\n",
    "    if state.get(\"needs_clarification\"):\n",
    "        print(\"Clarifying questions:\")\n",
    "        print(state[\"questions\"])\n",
    "        print(\"=\"*50)\n",
    "\n",
    "        # Get user input\n",
    "        print(\"Please provide answers to the questions above:\")\n",
    "        answers = input(\"Your answers: \")\n",
    "\n",
    "        # Add answers to state\n",
    "        state[\"answers\"] = answers\n",
    "        print(f\"Received answers: {answers[:100]}...\")\n",
    "        print(\"=\"*50)\n",
    "\n",
    "    #Agent 2 generates the code\n",
    "    print(\"🔧 Agent 2: Generating code...\")\n",
    "    state = CoderAgent2(state)\n",
    "\n",
    "    # Output final code\n",
    "    if state.get(\"final_code\"):\n",
    "        print(\"\\nFinal Code:\")\n",
    "        print(\"-\" * 40)\n",
    "        print(state[\"final_code\"])\n",
    "        return state[\"final_code\"]\n",
    "    else:\n",
    "        print(\"Error: Could not generate final code\")\n",
    "        return None\n",
    "        if state.get(\"final_code\") == \"\":\n",
    "            print(\"Final code is empty string\")\n",
    "        return None"
   ]
  },
  {
   "cell_type": "code",
   "execution_count": null,
   "metadata": {
    "colab": {
     "base_uri": "https://localhost:8080/",
     "height": 582
    },
    "id": "dB3YRD2nQtZm",
    "outputId": "1e7550d3-121c-47e4-fe3c-d0b082d62875"
   },
   "outputs": [],
   "source": [
    "if __name__ == \"__main__\":\n",
    "    result1 = agentic_clarify_coder(\"Write a python code to print the list\")"
   ]
  },
  {
   "cell_type": "markdown",
   "metadata": {
    "id": "Ht9RkvB_Ldql"
   },
   "source": [
    "**Okanagan Agentic Flow**\n",
    "\n",
    "This approach uses the Okanagan workflow. The Agent 1 will create the draft code based on the initial problem statement, providing a preliminary solution without making assumptions. Agent 2 will then evaluate the draft code to determine if it fully addresses the problem. If the draft does not solve the problem or contains ambiguities, Agent 2 generates concise, targeted clarification questions to elicit missing user requirements. Once the user provides the necessary clarifications, Agent 2 sends these requirements to Agent 3. If the draft is deemed sufficient, Agent 2 directly forwards it to Agent 3 without additional questions. Agent 3 then generates the final, production-ready code, incorporating the draft and any clarified requirements, ensuring a robust and reliable output."
   ]
  },
  {
   "cell_type": "markdown",
   "metadata": {
    "id": "ooBYvPIgb6vG"
   },
   "source": [
    "**OkState Class manages the shared state in the Okanagan workflow,**"
   ]
  },
  {
   "cell_type": "code",
   "execution_count": null,
   "metadata": {
    "id": "TEE3XBlYgvB8"
   },
   "outputs": [],
   "source": [
    "#Shared state\n",
    "class OkState(TypedDict, total=False):\n",
    "    problem: str\n",
    "    answers: str\n",
    "    draft_code: str\n",
    "    questions: str\n",
    "    needs_clarification: bool\n",
    "    final_code: str\n",
    "    status: str"
   ]
  },
  {
   "cell_type": "markdown",
   "metadata": {
    "id": "o4qsKRoLg3oA"
   },
   "source": [
    "**Agent1**\n",
    "\n",
    "This agent will understand the user problem and generate the draft code for it"
   ]
  },
  {
   "cell_type": "code",
   "execution_count": null,
   "metadata": {
    "id": "fHz0bqXJg0H2"
   },
   "outputs": [],
   "source": [
    "\n",
    "def Agent1(state: OkState) -> OkState:\n",
    "\n",
    "    system_msg = {\n",
    "        \"role\": \"system\",\n",
    "        \"content\": (\n",
    "            \"You are a Python developer. Create a step by step draft code that solves the problem.\\n\\n\"\n",
    "            \"RULES:\\n\"\n",
    "            \"- Write a Code that addresses the problem.\\n\"\n",
    "            \"- Write a detailed algorithm that solves the problem without using inbuilt functions\"\n",
    "            \"- Use generic parameter names (like 'arr', 'data', 'items') instead of input values\\n\"\n",
    "            \"- DO NOT include specific values or test data given in problem\\n\"\n",
    "            \"- DO NOT make assumptions about specific requirements\\n\"\n",
    "            \"- Keep the implementation basic and general\\n\"\n",
    "            \"- No example calls or test data\\n\\n\"\n",
    "            \"NOTE Anyways generate the draft code\"\n",
    "        )\n",
    "    }\n",
    "\n",
    "    user_msg = {\n",
    "        \"role\": \"user\",\n",
    "        \"content\": f\"Create a Python code for: {state['problem']}\"\n",
    "    }\n",
    "\n",
    "\n",
    "    #Generating Draft code\n",
    "    raw = response([system_msg, user_msg], max_new_tokens=1200, temperature=0.1).strip()\n",
    "\n",
    "    #Extract the code in between ```python ```\n",
    "    # Extract code between ```python ... ``` or after ### Response:\n",
    "    code_pattern = re.compile(r\"(?:```python\\s*\\n(.*?)\\n\\s*```|### Response:\\s*\\n(.*))\", re.DOTALL)\n",
    "    match = code_pattern.search(raw)\n",
    "    if match:\n",
    "        final_code = (match.group(1) or match.group(2)).strip()\n",
    "    else:\n",
    "        final_code = final_code.strip()\n",
    "\n",
    "    #print(final_code)\n",
    "    #Update state with the draft code\n",
    "    new = dict(state)\n",
    "    new[\"draft_code\"] = final_code\n",
    "    return new"
   ]
  },
  {
   "cell_type": "markdown",
   "metadata": {
    "id": "2NVVz_UMhFZB"
   },
   "source": [
    "**Agent 2**\n",
    "\n",
    "This agent acts as a code reviewer to determine if Agent 1 fully solved the problem or if additional requirements are needed for a better outcome."
   ]
  },
  {
   "cell_type": "code",
   "execution_count": null,
   "metadata": {
    "id": "g6Qo6-NPhF0J"
   },
   "outputs": [],
   "source": [
    "#Agent 2\n",
    "def Agent2(state: OkState) -> OkState:\n",
    "\n",
    "    #Define system message for strict code review, enforcing \"OK\" or 1-4 Questions\n",
    "    system_msg = {\n",
    "        \"role\": \"system\",\n",
    "        \"content\": (\n",
    "            \"You are a balanced code reviewer. Analyze if the problem is clear enough to implement.\\n\\n\"\n",
    "            \"OUTPUT RULES:\\n\"\n",
    "            \"- If the problem is clear and can be implemented without ambiguity, respond EXACTLY: OK\\n\"\n",
    "            \"- If the problem is vague or missing critical details, ask 1-4 numbered questions\\n\"\n",
    "            \"- Format questions as: '1. Question here\\\\n2. Another question\\\\n'\\n\"\n",
    "            \"- NO explanations, NO code, NO other text\\n\\n\"\n",
    "            \"Examples of CLEAR problems (respond OK):\\n\"\n",
    "            \"- 'Write a function to add two numbers values are 1 and 2'\\n\"\n",
    "            \"- 'Create a function to reverse a string America'\\n\"\n",
    "            \"- 'Write code to find the maximum number in a list'\\n\\n\"\n",
    "            \"Examples of UNCLEAR problems (ask questions):\\n\"\n",
    "            \"- 'Sort an array' (which algorithm? ascending/descending?)\\n\"\n",
    "            \"- 'Process user data' (what kind of processing? what format?)\\n\"\n",
    "            \"- 'Create a calculator' (what operations? GUI or CLI?)\\n\\n\"\n",
    "            \"Only ask questions if there are genuinely multiple ways to interpret the problem.\"\n",
    "        )\n",
    "    }\n",
    "\n",
    "    prompt = (\n",
    "        f\"Review this problem for clarity:\\n\\n\"\n",
    "        f\"PROBLEM: {state['problem']}\\n\\n\"\n",
    "        f\"DRAFT CODE:\\n{state['draft_code']}\\n\\n\"\n",
    "        f\"Is this problem clear enough to implement without ambiguity? \"\n",
    "        f\"If yes, respond 'OK'. If no, ask specific clarifying questions.\"\n",
    "    )\n",
    "\n",
    "\n",
    "    # Generate review output using the Clarify Coder\n",
    "    raw_output = response([system_msg, {\"role\": \"user\", \"content\": prompt}], max_new_tokens=2000, temperature=0.2).strip()\n",
    "\n",
    "\n",
    "    #Extracting the Response\n",
    "    code = re.compile(r\"(?:###\\s*Response:\\s*(.*))|(?:Clarifying questions:\\s*\\n(.*))\",\n",
    "                  re.DOTALL | re.IGNORECASE)\n",
    "    searching = code.search(raw_output)\n",
    "    out = (searching.group(1) or searching.group(2)).strip() if searching else raw_output.strip()\n",
    "\n",
    "    # Filtering the questions\n",
    "    lines = [ln.strip() for ln in out.splitlines() if ln.strip()]\n",
    "    question = [ln for ln in lines if re.match(r\"^[1-4]\\.\\s+\\S\", ln)]\n",
    "    exact_ok = any(ln == \"OK\" for ln in lines)\n",
    "\n",
    "    #If Valid Questions, Set clarification path else OK\n",
    "    if 1 <= len(question) <= 4:\n",
    "        out_final = \"\\n\".join(question)\n",
    "        needs = True\n",
    "    else:\n",
    "        out_final = \"OK\"\n",
    "        needs = False\n",
    "\n",
    "\n",
    "\n",
    "    #updating the states\n",
    "    new = dict(state)\n",
    "    new[\"needs_clarification\"] = needs\n",
    "    new[\"questions\"] = out_final if needs else \"\"\n",
    "    if needs and not state.get(\"answers\"):\n",
    "        new[\"status\"] = \"awaiting_answers\"\n",
    "\n",
    "\n",
    "\n",
    "    return new"
   ]
  },
  {
   "cell_type": "markdown",
   "metadata": {
    "id": "i3xjNUL4hSvJ"
   },
   "source": [
    "The route function directs the workflow after Agent 2 sending it to await for user requirements or to refine for final code generation."
   ]
  },
  {
   "cell_type": "code",
   "execution_count": null,
   "metadata": {
    "id": "fnD5NQbyhS_i"
   },
   "outputs": [],
   "source": [
    "#Direct Workflow based on needs\n",
    "def route(state: OkState) -> str:\n",
    "    if state.get(\"needs_clarification\") and not state.get(\"answers\"):\n",
    "        return \"await\"\n",
    "    return \"refine\"\n",
    "\n",
    "#Pass state through while waiting for user input\n",
    "def await_for_user_input(state: OkState) -> OkState:\n",
    "    \"\"\"This node just passes through the state when waiting for user input\"\"\"\n",
    "    new = dict(state)\n",
    "    new[\"status\"] = \"awaiting_answers\"\n",
    "    return new"
   ]
  },
  {
   "cell_type": "markdown",
   "metadata": {
    "id": "s1KWLHt7hXGA"
   },
   "source": [
    "**Agent 3**\n",
    "\n",
    "This agent will complete the final code by understanding the problem statement, draft code, and user requirements.\n"
   ]
  },
  {
   "cell_type": "code",
   "execution_count": null,
   "metadata": {
    "id": "XcsO1A7XhXWG"
   },
   "outputs": [],
   "source": [
    "def Agent3(state: OkState) -> OkState:\n",
    "    # System message: Instruct model to output only executable Python code\n",
    "    system_msg = {\n",
    "        \"role\": \"system\",\n",
    "        \"content\": (\n",
    "            \"\"\"You are Agent 3: Final Code Generator. Your job is to create executable Python code.\\n\\n\"\n",
    "            \"CRITICAL RULES:\\n\"\n",
    "            \"- If USER ANSWERS are provided, you MUST implement them exactly\\n\"\n",
    "            \"- Do NOT just copy the draft code - MODIFY it based on user requirements\\n\"\n",
    "            \"- Each user answer specifies a requirement you must implement\\n\"\n",
    "            \"- Generate complete, working Python code\\n\"\n",
    "            \"- Include example usage\\n\"\n",
    "            \"- NO explanations or markdown\\n\"\n",
    "            \"- Start directly with code\\n\\n\"\n",
    "            \"Your output must reflect ALL user requirements, not just the draft.\"\"\"\n",
    "        ),\n",
    "    }\n",
    "\n",
    "    # Create prompt based on whether clarifications exist\n",
    "    if state.get('questions') and state.get('answers'):\n",
    "      prompt = (\n",
    "            f\"You must create code that implements the user's specific requirements.\\n\\n\"\n",
    "            f\"ORIGINAL PROBLEM: {state['problem']}\\n\\n\"\n",
    "            f\"QUESTIONS ASKED:\\n{state['questions']}\\n\\n\"\n",
    "            f\"USER'S SPECIFIC REQUIREMENTS:\\n{state['answers']}\\n\\n\"\n",
    "            f\"CRITICAL TASK:\\n\"\n",
    "            f\"The user has provided specific answers about how they want the code to work. \"\n",
    "            f\"You MUST implement their requirements exactly. Do NOT just return the draft code. \"\n",
    "            f\"Analyze each user answer and implement those specific requirements.\\n\\n\"\n",
    "            f\"For example:\\n\"\n",
    "            f\"- If they specified 'bubble sort', implement bubble sort algorithm\\n\"\n",
    "            f\"- If they specified 'ascending order', sort in ascending order\\n\"\n",
    "            f\"- If they specified input format, use that exact format\\n\\n\"\n",
    "            f\"Create complete Python code that follows their specifications:\"\n",
    "        )\n",
    "    else:\n",
    "      prompt = (\n",
    "             f\"TASK: Convert draft algorithm into executable Python code.\\n\\n\"\n",
    "            f\"PROBLEM: {state['problem']}\\n\\n\"\n",
    "            f\"DRAFT ALGORITHM:\\n{state.get('draft_code', '')}\\n\\n\"\n",
    "            f\"INSTRUCTIONS:\\n\"\n",
    "            f\"1. Make it fully executable and complete\\n\"\n",
    "            f\"2. Add proper implementation details\\n\"\n",
    "            f\"3. Add example usage with sample data\\n\\n\"\n",
    "            f\"Generate the complete executable Python code:\"\n",
    "        )\n",
    "\n",
    "    # Generate final code using the clarify-coder model\n",
    "    final_code = response([system_msg, {\"role\": \"user\", \"content\": prompt}], max_new_tokens=1500, temperature=0.0).strip()\n",
    "\n",
    "    def compile_lang_pattern(lang: str) -> re.Pattern:\n",
    "      lang = re.escape(lang)\n",
    "      return re.compile(\n",
    "        rf\"(?:```{lang}\\s*\\n(.*?)\\n\\s*```)|(?:^###\\s*Response:\\s*\\n(.*))\",\n",
    "        re.DOTALL | re.IGNORECASE | re.MULTILINE\n",
    "    )\n",
    "\n",
    "    code_pattern = compile_lang_pattern(\"python\")\n",
    "    m = code_pattern.search(final_code)\n",
    "    final_code = (m.group(1) or m.group(2)).strip() if m else final_code.strip()\n",
    "\n",
    "\n",
    "    # Update state with final code and status\n",
    "    new = dict(state)\n",
    "    new[\"final_code\"] = final_code\n",
    "    new[\"status\"] = \"finalized\"\n",
    "\n",
    "\n",
    "    return new"
   ]
  },
  {
   "cell_type": "markdown",
   "metadata": {
    "id": "8mXFMho9hacI"
   },
   "source": [
    "**StateGraph**\n",
    "\n",
    "Building StateGraph for Okanagan Workflow, Connecting Agent1, Agent2, Agent3 with conditional routing to handle clarifications and finalize Code"
   ]
  },
  {
   "cell_type": "code",
   "execution_count": null,
   "metadata": {
    "id": "3a3gBb8Uhaqi"
   },
   "outputs": [],
   "source": [
    "#Build the graph\n",
    "builder = StateGraph(OkState)\n",
    "builder.add_node(\"Agent1\", Agent1)\n",
    "builder.add_node(\"Agent2\", Agent2)\n",
    "builder.add_node(\"Agent3\", Agent3)\n",
    "builder.add_node(\"await_for_user_input\", await_for_user_input)\n",
    "builder.set_entry_point(\"Agent1\")\n",
    "builder.add_edge(\"Agent1\", \"Agent2\")\n",
    "builder.add_conditional_edges(\"Agent2\", route, {\"await\": \"await_for_user_input\", \"refine\": \"Agent3\"})\n",
    "builder.add_edge(\"await_for_user_input\", END)\n",
    "builder.add_edge(\"Agent3\", END)\n",
    "okanagan_graph = builder.compile()"
   ]
  },
  {
   "cell_type": "code",
   "execution_count": null,
   "metadata": {
    "colab": {
     "base_uri": "https://localhost:8080/"
    },
    "id": "hbvEc59omblR",
    "outputId": "1020331c-40bd-4f72-d7e5-ce2c782009e8"
   },
   "outputs": [],
   "source": [
    "# Create a new directed graph\n",
    "dot = Digraph(comment='Okanagan StateGraph', format='png')\n",
    "\n",
    "# Define nodes\n",
    "dot.node('Agent1', 'Agent1\\n(Generate Draft Code)', shape='box', style='filled', fillcolor='lightblue')\n",
    "dot.node('Agent2', 'Agent2\\n(Clarification)', shape='box', style='filled', fillcolor='lightgreen')\n",
    "dot.node('Agent3', 'Agent3\\n(Executer)', shape='box', style='filled', fillcolor='lightyellow')\n",
    "dot.node('await_for_user_input', 'Await User Input', shape='box', style='filled', fillcolor='lightgrey')\n",
    "dot.node('END', 'END', shape='circle', style='filled', fillcolor='red')\n",
    "\n",
    "# Define edges\n",
    "dot.edge('Agent1', 'Agent2')\n",
    "dot.edge('Agent2', 'Agent3', label='refine (clear)', style='bold')\n",
    "dot.edge('Agent2', 'await_for_user_input', label='await (unclear)', style='dashed')\n",
    "dot.edge('await_for_user_input', 'Agent3', label='proceed after input', style='dotted')\n",
    "dot.edge('Agent3', 'END')\n",
    "\n",
    "# Set entry point\n",
    "dot.node('START', 'START', shape='circle', style='filled', fillcolor='grey')\n",
    "dot.edge('START', 'Agent1', label='Entry', style='bold')\n",
    "\n",
    "# Render the graph to a file\n",
    "dot.render('Three_agent_graph.png', view=True)\n",
    "print(\"Graph visualization saved as Three_agent_graph.png\")"
   ]
  },
  {
   "cell_type": "code",
   "execution_count": null,
   "metadata": {
    "colab": {
     "base_uri": "https://localhost:8080/",
     "height": 707
    },
    "id": "cYAKS-gHmeCq",
    "outputId": "705d4c40-8ba8-4398-d057-f5936371e9b0"
   },
   "outputs": [],
   "source": [
    "display(Image(filename='Three_agent_graph.png.png'))"
   ]
  },
  {
   "cell_type": "markdown",
   "metadata": {
    "id": "jZ7QajR1hfmE"
   },
   "source": [
    "**Okanagan Workflow**\n",
    "\n",
    "This function manually executes the Okanagan workflow, generating a draft with Agent1, reviewing it with Agent2, collecting user clarification if needed, and producing final code with Agent3."
   ]
  },
  {
   "cell_type": "code",
   "execution_count": null,
   "metadata": {
    "id": "T7CDHKk-hf33"
   },
   "outputs": [],
   "source": [
    "#Run Okanagan workflow interactively\n",
    "\n",
    "def run_okanagan_interactive(problem: str):\n",
    "    \"\"\"Run the Okanagan technique with interactive clarification\"\"\"\n",
    "\n",
    "    print(f\"Processing problem: {problem}\\n\")\n",
    "\n",
    "    #Generate initial draft\n",
    "    print(\"Generating initial draft\")\n",
    "    state = {\"problem\": problem}\n",
    "    state = Agent1(state)\n",
    "    print(f\"Draft generated: {len(state['draft_code'])} characters\")\n",
    "    print(\"\\n\" + \"=\"*50)\n",
    "\n",
    "    # Reviewing the draft\n",
    "    print(\"Reviewing draft\")\n",
    "    state = Agent2(state)\n",
    "\n",
    "    # Show if clarification is needed\n",
    "    if state.get(\"needs_clarification\"):\n",
    "        print(\"Reviewer says: NEEDS CLARIFICATION\")\n",
    "    else:\n",
    "        print(\"Reviewer says: OK - No clarification needed\")\n",
    "    print(\"\\n\" + \"=\"*50)\n",
    "\n",
    "    # Collect user answer if clarification is needed\n",
    "    if state.get(\"needs_clarification\"):\n",
    "        print(\"Clarifying questions:\")\n",
    "        print(state[\"questions\"])\n",
    "        print(\"\\n\" + \"=\"*50)\n",
    "\n",
    "        # Getting user input\n",
    "        print(\"Please provide answers to the questions above:\")\n",
    "        answers = input(\"Your answers: \")\n",
    "\n",
    "        # Adding answers to state\n",
    "        state[\"answers\"] = answers\n",
    "        print(f\"Received answers: {answers[:100]}...\")\n",
    "\n",
    "\n",
    "\n",
    "    # Generate final code\n",
    "    print(\" Generating final code...\")\n",
    "\n",
    "\n",
    "    state = Agent3(state)\n",
    "\n",
    "    #Output final Code\n",
    "    if state.get(\"final_code\"):\n",
    "        print(\"\\nFinal Code:\")\n",
    "        print(\"-\" * 40)\n",
    "        print(state[\"final_code\"])\n",
    "        return state[\"final_code\"]\n",
    "    else:\n",
    "        print(\"Error: Could not generate final code\")\n",
    "        print(\"Debug - Final state keys:\", list(state.keys()))\n",
    "        if state.get(\"final_code\") == \"\":\n",
    "            print(\"Final code is empty string\")\n",
    "        return None"
   ]
  },
  {
   "cell_type": "code",
   "execution_count": null,
   "metadata": {
    "colab": {
     "base_uri": "https://localhost:8080/"
    },
    "id": "poHiXgSOL9DC",
    "outputId": "79d0491c-d092-4e15-acdb-3051beb20141"
   },
   "outputs": [],
   "source": [
    "\n",
    "if __name__ == \"__main__\":\n",
    "    result1 = run_okanagan_interactive(\"Write a python code to sort the array\")"
   ]
  },
  {
   "cell_type": "markdown",
   "metadata": {
    "id": "ueH5zIEvU5a2"
   },
   "source": [
    "**Result**\n",
    "\n",
    "The Okanagan flow remains a strong baseline: its three-agent structure encourages careful requirement checking and often yields high-quality code when specs are clear. However, because there are more agents, the response time increases and with LLMs inherent fuzziness, small variations from any single agent can propagate, occasionally lowering overall consistency\n",
    "\n",
    "Building from Okanagan, I developed a two-agent clarifyCoder flow. if the problem is not clear it asks brief clarifications up front and then generating code directly, it uses fewer hops, achieves lower latency, and shows more consistent outputs across runs. In practice, this streamlined graph reduces failure modes, minimizes stochastic drift between stages, and keeps the solution tightly aligned with the clarified requirements."
   ]
  },
  {
   "cell_type": "code",
   "execution_count": null,
   "metadata": {
    "id": "LjzgIHsgVsv0"
   },
   "outputs": [],
   "source": []
  }
 ],
 "metadata": {
  "accelerator": "GPU",
  "colab": {
   "gpuType": "L4",
   "provenance": []
  },
  "kernelspec": {
   "display_name": "Python 3",
   "name": "python3"
  },
  "language_info": {
   "name": "python"
  }
 },
 "nbformat": 4,
 "nbformat_minor": 0
}
